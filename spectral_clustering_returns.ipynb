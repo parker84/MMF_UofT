{
 "cells": [
  {
   "cell_type": "code",
   "execution_count": 1,
   "metadata": {
    "collapsed": false,
    "deletable": true,
    "editable": true
   },
   "outputs": [],
   "source": [
    "import pandas as pd\n",
    "import numpy as np \n",
    "from sqlalchemy import create_engine\n",
    "import pymysql\n",
    "pymysql.install_as_MySQLdb()\n",
    "import MySQLdb\n",
    "from matplotlib import pyplot as plt\n",
    "% matplotlib inline"
   ]
  },
  {
   "cell_type": "markdown",
   "metadata": {
    "deletable": true,
    "editable": true
   },
   "source": [
    "### lets bring in our returns data\n",
    "- have some stored in mysql"
   ]
  },
  {
   "cell_type": "code",
   "execution_count": 2,
   "metadata": {
    "collapsed": false,
    "deletable": true,
    "editable": true
   },
   "outputs": [
    {
     "name": "stdout",
     "output_type": "stream",
     "text": [
      "shape of df: (31375, 3), \n",
      "\n",
      " describe this df: \n",
      "         daily1_rets\n",
      "count  31375.000000\n",
      "mean       0.001041\n",
      "std        0.015288\n",
      "min       -0.176488\n",
      "25%       -0.005508\n",
      "50%        0.000784\n",
      "75%        0.007520\n",
      "max        0.298066, \n",
      "\n",
      " num ticks: 219\n"
     ]
    }
   ],
   "source": [
    "host = 'localhost'\n",
    "# user='Alik_the_man'\n",
    "# passwd=\"Im_the_smartest_person_in_this_room\"\n",
    "user='Brydon'\n",
    "passwd=\"mysql_root2456\"\n",
    "db='fin_project'\n",
    "\n",
    "engine = create_engine(\"mysql+mysqldb://{}:{}@{}:3306/{}\".format(\n",
    "    user, passwd, host, db\n",
    "))\n",
    "df = pd.read_sql(\"\"\"select daily1_rets, ticker, date \n",
    "                    from hist_daily_rets0919_2017\n",
    "                \"\"\", \n",
    "                 con=engine)\n",
    "\n",
    "print('shape of df: {}, \\n\\n describe this df: \\n {}, \\n\\n num ticks: {}'.format(\n",
    "    df.shape, df.describe(), len(df.ticker.unique())))"
   ]
  },
  {
   "cell_type": "markdown",
   "metadata": {
    "deletable": true,
    "editable": true
   },
   "source": [
    "### in order to compare stocks, lets tidy this data up \n",
    "- tidying data is super helpful\n",
    "    - python: https://www.ibm.com/developerworks/community/blogs/jfp/entry/Tidy_Data_In_Python?lang=en\n",
    "    - R: http://r4ds.had.co.nz/tidy-data.html (the maker of tidy data Hadley)"
   ]
  },
  {
   "cell_type": "code",
   "execution_count": 3,
   "metadata": {
    "collapsed": false,
    "deletable": true,
    "editable": true
   },
   "outputs": [
    {
     "name": "stdout",
     "output_type": "stream",
     "text": [
      "(219, 144)\n"
     ]
    },
    {
     "data": {
      "text/html": [
       "<div>\n",
       "<table border=\"1\" class=\"dataframe\">\n",
       "  <thead>\n",
       "    <tr style=\"text-align: right;\">\n",
       "      <th>date</th>\n",
       "      <th>2016-11-02</th>\n",
       "      <th>2016-11-03</th>\n",
       "      <th>2016-11-04</th>\n",
       "      <th>2016-11-07</th>\n",
       "      <th>2016-11-08</th>\n",
       "      <th>2016-11-09</th>\n",
       "      <th>2016-11-10</th>\n",
       "      <th>2016-11-11</th>\n",
       "      <th>2016-11-14</th>\n",
       "      <th>2016-11-15</th>\n",
       "      <th>...</th>\n",
       "      <th>2017-05-17</th>\n",
       "      <th>2017-05-18</th>\n",
       "      <th>2017-05-19</th>\n",
       "      <th>2017-05-22</th>\n",
       "      <th>2017-05-23</th>\n",
       "      <th>2017-05-24</th>\n",
       "      <th>2017-05-25</th>\n",
       "      <th>2017-05-26</th>\n",
       "      <th>2017-05-30</th>\n",
       "      <th>2017-05-31</th>\n",
       "    </tr>\n",
       "    <tr>\n",
       "      <th>ticker</th>\n",
       "      <th></th>\n",
       "      <th></th>\n",
       "      <th></th>\n",
       "      <th></th>\n",
       "      <th></th>\n",
       "      <th></th>\n",
       "      <th></th>\n",
       "      <th></th>\n",
       "      <th></th>\n",
       "      <th></th>\n",
       "      <th></th>\n",
       "      <th></th>\n",
       "      <th></th>\n",
       "      <th></th>\n",
       "      <th></th>\n",
       "      <th></th>\n",
       "      <th></th>\n",
       "      <th></th>\n",
       "      <th></th>\n",
       "      <th></th>\n",
       "      <th></th>\n",
       "    </tr>\n",
       "  </thead>\n",
       "  <tbody>\n",
       "    <tr>\n",
       "      <th>AAP</th>\n",
       "      <td>0.005140</td>\n",
       "      <td>-0.019157</td>\n",
       "      <td>0.009912</td>\n",
       "      <td>0.000946</td>\n",
       "      <td>0.019322</td>\n",
       "      <td>0.039121</td>\n",
       "      <td>-0.005486</td>\n",
       "      <td>-0.014618</td>\n",
       "      <td>0.149965</td>\n",
       "      <td>-0.008216</td>\n",
       "      <td>...</td>\n",
       "      <td>0.027325</td>\n",
       "      <td>0.019931</td>\n",
       "      <td>-0.027068</td>\n",
       "      <td>-0.045531</td>\n",
       "      <td>-0.054315</td>\n",
       "      <td>-0.007894</td>\n",
       "      <td>0.016595</td>\n",
       "      <td>-0.008721</td>\n",
       "      <td>0.004813</td>\n",
       "      <td>0.025967</td>\n",
       "    </tr>\n",
       "    <tr>\n",
       "      <th>AAPL</th>\n",
       "      <td>-0.010664</td>\n",
       "      <td>-0.009014</td>\n",
       "      <td>0.014425</td>\n",
       "      <td>0.005887</td>\n",
       "      <td>-0.001621</td>\n",
       "      <td>-0.027868</td>\n",
       "      <td>0.005938</td>\n",
       "      <td>-0.025085</td>\n",
       "      <td>0.013244</td>\n",
       "      <td>0.026888</td>\n",
       "      <td>...</td>\n",
       "      <td>0.015242</td>\n",
       "      <td>0.003409</td>\n",
       "      <td>0.006076</td>\n",
       "      <td>-0.001234</td>\n",
       "      <td>-0.002991</td>\n",
       "      <td>0.003457</td>\n",
       "      <td>-0.001689</td>\n",
       "      <td>0.000390</td>\n",
       "      <td>-0.005922</td>\n",
       "      <td>0.002749</td>\n",
       "    </tr>\n",
       "    <tr>\n",
       "      <th>ABBV</th>\n",
       "      <td>-0.015848</td>\n",
       "      <td>0.002684</td>\n",
       "      <td>0.051213</td>\n",
       "      <td>-0.001697</td>\n",
       "      <td>0.065124</td>\n",
       "      <td>0.021712</td>\n",
       "      <td>-0.014063</td>\n",
       "      <td>-0.002061</td>\n",
       "      <td>-0.001588</td>\n",
       "      <td>-0.021154</td>\n",
       "      <td>...</td>\n",
       "      <td>0.003977</td>\n",
       "      <td>-0.000762</td>\n",
       "      <td>-0.002134</td>\n",
       "      <td>0.006113</td>\n",
       "      <td>0.001367</td>\n",
       "      <td>0.005914</td>\n",
       "      <td>-0.003920</td>\n",
       "      <td>-0.000605</td>\n",
       "      <td>0.000000</td>\n",
       "      <td>0.010451</td>\n",
       "    </tr>\n",
       "    <tr>\n",
       "      <th>ABC</th>\n",
       "      <td>-0.047919</td>\n",
       "      <td>-0.025581</td>\n",
       "      <td>0.020718</td>\n",
       "      <td>-0.040317</td>\n",
       "      <td>0.095320</td>\n",
       "      <td>0.052638</td>\n",
       "      <td>-0.008417</td>\n",
       "      <td>0.030536</td>\n",
       "      <td>-0.022131</td>\n",
       "      <td>-0.008425</td>\n",
       "      <td>...</td>\n",
       "      <td>0.008983</td>\n",
       "      <td>0.028493</td>\n",
       "      <td>0.003589</td>\n",
       "      <td>-0.003241</td>\n",
       "      <td>0.008746</td>\n",
       "      <td>0.012671</td>\n",
       "      <td>-0.001207</td>\n",
       "      <td>0.000330</td>\n",
       "      <td>0.008129</td>\n",
       "      <td>0.014929</td>\n",
       "    </tr>\n",
       "    <tr>\n",
       "      <th>ABT</th>\n",
       "      <td>-0.008271</td>\n",
       "      <td>0.018500</td>\n",
       "      <td>0.019698</td>\n",
       "      <td>-0.000751</td>\n",
       "      <td>0.006025</td>\n",
       "      <td>0.013477</td>\n",
       "      <td>-0.011575</td>\n",
       "      <td>-0.023416</td>\n",
       "      <td>0.015560</td>\n",
       "      <td>0.003516</td>\n",
       "      <td>...</td>\n",
       "      <td>-0.002322</td>\n",
       "      <td>0.004188</td>\n",
       "      <td>0.013207</td>\n",
       "      <td>-0.001143</td>\n",
       "      <td>-0.003434</td>\n",
       "      <td>0.009648</td>\n",
       "      <td>0.017293</td>\n",
       "      <td>0.006486</td>\n",
       "      <td>0.014666</td>\n",
       "      <td>0.009636</td>\n",
       "    </tr>\n",
       "  </tbody>\n",
       "</table>\n",
       "<p>5 rows × 144 columns</p>\n",
       "</div>"
      ],
      "text/plain": [
       "date    2016-11-02  2016-11-03  2016-11-04  2016-11-07  2016-11-08  \\\n",
       "ticker                                                               \n",
       "AAP       0.005140   -0.019157    0.009912    0.000946    0.019322   \n",
       "AAPL     -0.010664   -0.009014    0.014425    0.005887   -0.001621   \n",
       "ABBV     -0.015848    0.002684    0.051213   -0.001697    0.065124   \n",
       "ABC      -0.047919   -0.025581    0.020718   -0.040317    0.095320   \n",
       "ABT      -0.008271    0.018500    0.019698   -0.000751    0.006025   \n",
       "\n",
       "date    2016-11-09  2016-11-10  2016-11-11  2016-11-14  2016-11-15  \\\n",
       "ticker                                                               \n",
       "AAP       0.039121   -0.005486   -0.014618    0.149965   -0.008216   \n",
       "AAPL     -0.027868    0.005938   -0.025085    0.013244    0.026888   \n",
       "ABBV      0.021712   -0.014063   -0.002061   -0.001588   -0.021154   \n",
       "ABC       0.052638   -0.008417    0.030536   -0.022131   -0.008425   \n",
       "ABT       0.013477   -0.011575   -0.023416    0.015560    0.003516   \n",
       "\n",
       "date       ...      2017-05-17  2017-05-18  2017-05-19  2017-05-22  \\\n",
       "ticker     ...                                                       \n",
       "AAP        ...        0.027325    0.019931   -0.027068   -0.045531   \n",
       "AAPL       ...        0.015242    0.003409    0.006076   -0.001234   \n",
       "ABBV       ...        0.003977   -0.000762   -0.002134    0.006113   \n",
       "ABC        ...        0.008983    0.028493    0.003589   -0.003241   \n",
       "ABT        ...       -0.002322    0.004188    0.013207   -0.001143   \n",
       "\n",
       "date    2017-05-23  2017-05-24  2017-05-25  2017-05-26  2017-05-30  2017-05-31  \n",
       "ticker                                                                          \n",
       "AAP      -0.054315   -0.007894    0.016595   -0.008721    0.004813    0.025967  \n",
       "AAPL     -0.002991    0.003457   -0.001689    0.000390   -0.005922    0.002749  \n",
       "ABBV      0.001367    0.005914   -0.003920   -0.000605    0.000000    0.010451  \n",
       "ABC       0.008746    0.012671   -0.001207    0.000330    0.008129    0.014929  \n",
       "ABT      -0.003434    0.009648    0.017293    0.006486    0.014666    0.009636  \n",
       "\n",
       "[5 rows x 144 columns]"
      ]
     },
     "execution_count": 3,
     "metadata": {},
     "output_type": "execute_result"
    }
   ],
   "source": [
    "tidy_df = df.pivot(index='ticker', \n",
    "                   columns='date', values='daily1_rets')\n",
    "print(tidy_df.shape)\n",
    "tidy_df.head()"
   ]
  },
  {
   "cell_type": "markdown",
   "metadata": {
    "deletable": true,
    "editable": true
   },
   "source": [
    "##### this tyoe of df sucks to work w (groupby does this too) reset_index()"
   ]
  },
  {
   "cell_type": "code",
   "execution_count": 4,
   "metadata": {
    "collapsed": false,
    "deletable": true,
    "editable": true
   },
   "outputs": [
    {
     "data": {
      "text/html": [
       "<div>\n",
       "<table border=\"1\" class=\"dataframe\">\n",
       "  <thead>\n",
       "    <tr style=\"text-align: right;\">\n",
       "      <th>date</th>\n",
       "      <th>ticker</th>\n",
       "      <th>2016-11-02</th>\n",
       "      <th>2016-11-03</th>\n",
       "      <th>2016-11-04</th>\n",
       "      <th>2016-11-07</th>\n",
       "      <th>2016-11-08</th>\n",
       "      <th>2016-11-09</th>\n",
       "      <th>2016-11-10</th>\n",
       "      <th>2016-11-11</th>\n",
       "      <th>2016-11-14</th>\n",
       "      <th>...</th>\n",
       "      <th>2017-05-17</th>\n",
       "      <th>2017-05-18</th>\n",
       "      <th>2017-05-19</th>\n",
       "      <th>2017-05-22</th>\n",
       "      <th>2017-05-23</th>\n",
       "      <th>2017-05-24</th>\n",
       "      <th>2017-05-25</th>\n",
       "      <th>2017-05-26</th>\n",
       "      <th>2017-05-30</th>\n",
       "      <th>2017-05-31</th>\n",
       "    </tr>\n",
       "  </thead>\n",
       "  <tbody>\n",
       "    <tr>\n",
       "      <th>0</th>\n",
       "      <td>AAP</td>\n",
       "      <td>0.005140</td>\n",
       "      <td>-0.019157</td>\n",
       "      <td>0.009912</td>\n",
       "      <td>0.000946</td>\n",
       "      <td>0.019322</td>\n",
       "      <td>0.039121</td>\n",
       "      <td>-0.005486</td>\n",
       "      <td>-0.014618</td>\n",
       "      <td>0.149965</td>\n",
       "      <td>...</td>\n",
       "      <td>0.027325</td>\n",
       "      <td>0.019931</td>\n",
       "      <td>-0.027068</td>\n",
       "      <td>-0.045531</td>\n",
       "      <td>-0.054315</td>\n",
       "      <td>-0.007894</td>\n",
       "      <td>0.016595</td>\n",
       "      <td>-0.008721</td>\n",
       "      <td>0.004813</td>\n",
       "      <td>0.025967</td>\n",
       "    </tr>\n",
       "    <tr>\n",
       "      <th>1</th>\n",
       "      <td>AAPL</td>\n",
       "      <td>-0.010664</td>\n",
       "      <td>-0.009014</td>\n",
       "      <td>0.014425</td>\n",
       "      <td>0.005887</td>\n",
       "      <td>-0.001621</td>\n",
       "      <td>-0.027868</td>\n",
       "      <td>0.005938</td>\n",
       "      <td>-0.025085</td>\n",
       "      <td>0.013244</td>\n",
       "      <td>...</td>\n",
       "      <td>0.015242</td>\n",
       "      <td>0.003409</td>\n",
       "      <td>0.006076</td>\n",
       "      <td>-0.001234</td>\n",
       "      <td>-0.002991</td>\n",
       "      <td>0.003457</td>\n",
       "      <td>-0.001689</td>\n",
       "      <td>0.000390</td>\n",
       "      <td>-0.005922</td>\n",
       "      <td>0.002749</td>\n",
       "    </tr>\n",
       "    <tr>\n",
       "      <th>2</th>\n",
       "      <td>ABBV</td>\n",
       "      <td>-0.015848</td>\n",
       "      <td>0.002684</td>\n",
       "      <td>0.051213</td>\n",
       "      <td>-0.001697</td>\n",
       "      <td>0.065124</td>\n",
       "      <td>0.021712</td>\n",
       "      <td>-0.014063</td>\n",
       "      <td>-0.002061</td>\n",
       "      <td>-0.001588</td>\n",
       "      <td>...</td>\n",
       "      <td>0.003977</td>\n",
       "      <td>-0.000762</td>\n",
       "      <td>-0.002134</td>\n",
       "      <td>0.006113</td>\n",
       "      <td>0.001367</td>\n",
       "      <td>0.005914</td>\n",
       "      <td>-0.003920</td>\n",
       "      <td>-0.000605</td>\n",
       "      <td>0.000000</td>\n",
       "      <td>0.010451</td>\n",
       "    </tr>\n",
       "    <tr>\n",
       "      <th>3</th>\n",
       "      <td>ABC</td>\n",
       "      <td>-0.047919</td>\n",
       "      <td>-0.025581</td>\n",
       "      <td>0.020718</td>\n",
       "      <td>-0.040317</td>\n",
       "      <td>0.095320</td>\n",
       "      <td>0.052638</td>\n",
       "      <td>-0.008417</td>\n",
       "      <td>0.030536</td>\n",
       "      <td>-0.022131</td>\n",
       "      <td>...</td>\n",
       "      <td>0.008983</td>\n",
       "      <td>0.028493</td>\n",
       "      <td>0.003589</td>\n",
       "      <td>-0.003241</td>\n",
       "      <td>0.008746</td>\n",
       "      <td>0.012671</td>\n",
       "      <td>-0.001207</td>\n",
       "      <td>0.000330</td>\n",
       "      <td>0.008129</td>\n",
       "      <td>0.014929</td>\n",
       "    </tr>\n",
       "    <tr>\n",
       "      <th>4</th>\n",
       "      <td>ABT</td>\n",
       "      <td>-0.008271</td>\n",
       "      <td>0.018500</td>\n",
       "      <td>0.019698</td>\n",
       "      <td>-0.000751</td>\n",
       "      <td>0.006025</td>\n",
       "      <td>0.013477</td>\n",
       "      <td>-0.011575</td>\n",
       "      <td>-0.023416</td>\n",
       "      <td>0.015560</td>\n",
       "      <td>...</td>\n",
       "      <td>-0.002322</td>\n",
       "      <td>0.004188</td>\n",
       "      <td>0.013207</td>\n",
       "      <td>-0.001143</td>\n",
       "      <td>-0.003434</td>\n",
       "      <td>0.009648</td>\n",
       "      <td>0.017293</td>\n",
       "      <td>0.006486</td>\n",
       "      <td>0.014666</td>\n",
       "      <td>0.009636</td>\n",
       "    </tr>\n",
       "  </tbody>\n",
       "</table>\n",
       "<p>5 rows × 145 columns</p>\n",
       "</div>"
      ],
      "text/plain": [
       "date ticker  2016-11-02  2016-11-03  2016-11-04  2016-11-07  2016-11-08  \\\n",
       "0       AAP    0.005140   -0.019157    0.009912    0.000946    0.019322   \n",
       "1      AAPL   -0.010664   -0.009014    0.014425    0.005887   -0.001621   \n",
       "2      ABBV   -0.015848    0.002684    0.051213   -0.001697    0.065124   \n",
       "3       ABC   -0.047919   -0.025581    0.020718   -0.040317    0.095320   \n",
       "4       ABT   -0.008271    0.018500    0.019698   -0.000751    0.006025   \n",
       "\n",
       "date  2016-11-09  2016-11-10  2016-11-11  2016-11-14     ...      2017-05-17  \\\n",
       "0       0.039121   -0.005486   -0.014618    0.149965     ...        0.027325   \n",
       "1      -0.027868    0.005938   -0.025085    0.013244     ...        0.015242   \n",
       "2       0.021712   -0.014063   -0.002061   -0.001588     ...        0.003977   \n",
       "3       0.052638   -0.008417    0.030536   -0.022131     ...        0.008983   \n",
       "4       0.013477   -0.011575   -0.023416    0.015560     ...       -0.002322   \n",
       "\n",
       "date  2017-05-18  2017-05-19  2017-05-22  2017-05-23  2017-05-24  2017-05-25  \\\n",
       "0       0.019931   -0.027068   -0.045531   -0.054315   -0.007894    0.016595   \n",
       "1       0.003409    0.006076   -0.001234   -0.002991    0.003457   -0.001689   \n",
       "2      -0.000762   -0.002134    0.006113    0.001367    0.005914   -0.003920   \n",
       "3       0.028493    0.003589   -0.003241    0.008746    0.012671   -0.001207   \n",
       "4       0.004188    0.013207   -0.001143   -0.003434    0.009648    0.017293   \n",
       "\n",
       "date  2017-05-26  2017-05-30  2017-05-31  \n",
       "0      -0.008721    0.004813    0.025967  \n",
       "1       0.000390   -0.005922    0.002749  \n",
       "2      -0.000605    0.000000    0.010451  \n",
       "3       0.000330    0.008129    0.014929  \n",
       "4       0.006486    0.014666    0.009636  \n",
       "\n",
       "[5 rows x 145 columns]"
      ]
     },
     "execution_count": 4,
     "metadata": {},
     "output_type": "execute_result"
    }
   ],
   "source": [
    "tidy_df = tidy_df.reset_index()\n",
    "tidy_df.head()"
   ]
  },
  {
   "cell_type": "markdown",
   "metadata": {
    "deletable": true,
    "editable": true
   },
   "source": [
    "### cleaning\n",
    "- rows w all 0s, wont allow us to perform the spectral embedding below"
   ]
  },
  {
   "cell_type": "code",
   "execution_count": 5,
   "metadata": {
    "collapsed": false,
    "deletable": true,
    "editable": true
   },
   "outputs": [
    {
     "name": "stdout",
     "output_type": "stream",
     "text": [
      "number of rows w all 0s: 3, number of rows w NaNs: 1\n"
     ]
    }
   ],
   "source": [
    "print('number of rows w all 0s: {}, number of rows w NaNs: {}'.format(\n",
    "    sum(tidy_df.iloc[:,:2].sum(axis=1) ==0), \n",
    "    sum(tidy_df.iloc[:,:2].isnull().sum(axis=1) > 0)))"
   ]
  },
  {
   "cell_type": "code",
   "execution_count": 6,
   "metadata": {
    "collapsed": false,
    "deletable": true,
    "editable": true
   },
   "outputs": [
    {
     "name": "stdout",
     "output_type": "stream",
     "text": [
      "shape of df before cleaning: (219, 145)\n",
      "shape of df after cleaning: (216, 145)\n"
     ]
    }
   ],
   "source": [
    "print('shape of df before cleaning: {}'.format(tidy_df.shape))\n",
    "tidy_df.dropna(axis=0, inplace=True)\n",
    "selix = tidy_df.index[tidy_df.sum(axis=1) != 0]\n",
    "tidy_df = tidy_df.loc[selix]\n",
    "print('shape of df after cleaning: {}'.format(tidy_df.shape))"
   ]
  },
  {
   "cell_type": "code",
   "execution_count": 7,
   "metadata": {
    "collapsed": false,
    "deletable": true,
    "editable": true
   },
   "outputs": [
    {
     "name": "stdout",
     "output_type": "stream",
     "text": [
      "number of rows w all 0s: 1, number of rows w NaNs: 0\n"
     ]
    }
   ],
   "source": [
    "print('number of rows w all 0s: {}, number of rows w NaNs: {}'.format(\n",
    "    sum(tidy_df.iloc[:,:2].sum(axis=1) ==0), \n",
    "    sum(tidy_df.iloc[:,:2].isnull().sum(axis=1) > 0)))"
   ]
  },
  {
   "cell_type": "markdown",
   "metadata": {
    "deletable": true,
    "editable": true
   },
   "source": [
    "be careful if using a notebook and using repeated variable names"
   ]
  },
  {
   "cell_type": "markdown",
   "metadata": {
    "deletable": true,
    "editable": true
   },
   "source": [
    "### define our distance measure between stocks\n",
    "- going to use spearmans correlation: https://docs.scipy.org/doc/scipy-0.15.1/reference/generated/scipy.stats.spearmanr.html\n",
    "    - bc it doesnt rely on a linear relationship like pearsons"
   ]
  },
  {
   "cell_type": "code",
   "execution_count": 8,
   "metadata": {
    "collapsed": false,
    "deletable": true,
    "editable": true
   },
   "outputs": [
    {
     "name": "stdout",
     "output_type": "stream",
     "text": [
      "0 stocks done out of 216\n",
      "10 stocks done out of 216\n",
      "20 stocks done out of 216\n",
      "30 stocks done out of 216\n",
      "40 stocks done out of 216\n",
      "50 stocks done out of 216\n",
      "60 stocks done out of 216\n",
      "70 stocks done out of 216\n",
      "80 stocks done out of 216\n",
      "90 stocks done out of 216\n",
      "100 stocks done out of 216\n",
      "110 stocks done out of 216\n",
      "120 stocks done out of 216\n",
      "130 stocks done out of 216\n",
      "140 stocks done out of 216\n",
      "150 stocks done out of 216\n",
      "160 stocks done out of 216\n",
      "170 stocks done out of 216\n",
      "180 stocks done out of 216\n",
      "190 stocks done out of 216\n",
      "200 stocks done out of 216\n",
      "210 stocks done out of 216\n",
      "aapl is most similar to: \n",
      " 1       AAPL\n",
      "23      AMZN\n",
      "217     YHOO\n",
      "96     GOOGL\n",
      "144     MSFT\n",
      "Name: ticker, dtype: object, with corrs: \n",
      " [ 1.          0.50426815  0.46653404  0.44021381  0.43736857]\n",
      "\n",
      "\n",
      "\n",
      " aapl is least similar to: \n",
      " 81     ESS\n",
      "185    SPG\n",
      "126    MAC\n",
      "92     GGP\n",
      "118    JWN\n",
      "Name: ticker, dtype: object, with corrs: \n",
      " [-0.0698296  -0.04950969 -0.02186121 -0.01970501 -0.01921067]\n"
     ]
    }
   ],
   "source": [
    "from scipy.stats import spearmanr\n",
    "\n",
    "def get_distance_matrix(df, distance_measure, feat_col_ix=1):\n",
    "    \"\"\"\n",
    "    return a distance matrix between every row of df\n",
    "\n",
    "    Note: could probably be made faster w matrix algebra\n",
    "\n",
    "    ass:\n",
    "    - each row of df is an observation\n",
    "    - distance measure returns 2 vals, 1st is of interest\n",
    "\n",
    "    :param df:\n",
    "    :param distance_measure:\n",
    "    :param feat_col_ix: all cols > this val are used in distance computation\n",
    "    :return:\n",
    "    \"\"\"\n",
    "    n = len(df)\n",
    "    dist_matrix = np.zeros((n,n))\n",
    "    #-----------define our distance matrix\n",
    "    for i in range(n):\n",
    "        if i % 10 == 0:\n",
    "            print('{} stocks done out of {}'.format(i, n))\n",
    "        for j in range(n):\n",
    "            si = df.iloc[i, feat_col_ix:]\n",
    "            sj = df.iloc[j, feat_col_ix:]\n",
    "            dist_matrix[i,j] = distance_measure(si, sj)[0]\n",
    "    \n",
    "    # try in case we get an error below we won;t have to redo above\n",
    "    # also makes debugging easier because we'll have the dist matrix\n",
    "    try: \n",
    "        dists=dist_matrix\n",
    "        #----------sanity checks\n",
    "        ixs = np.argsort(-dists[1])[:5]\n",
    "        corrs = -np.array(sorted(-dists[1])[:5])\n",
    "        print('aapl is most similar to: \\n {}, with corrs: \\n {}'.format(\n",
    "            tidy_df.loc[tidy_df.index[ixs], 'ticker'], \n",
    "            corrs))\n",
    "        ixs = np.argsort(dists[1])[:5]\n",
    "        corrs = np.array(sorted(dists[1])[:5])\n",
    "        print('\\n\\n\\n aapl is least similar to: \\n {}, with corrs: \\n {}'.format(\n",
    "            tidy_df.loc[tidy_df.index[ixs], 'ticker'], \n",
    "            corrs))\n",
    "    except Exception as error: # Exception catches any possible error\n",
    "        print(error)\n",
    "\n",
    "    return dist_matrix\n",
    "\n",
    "dists = get_distance_matrix(tidy_df, spearmanr, feat_col_ix=1)"
   ]
  },
  {
   "cell_type": "markdown",
   "metadata": {
    "deletable": true,
    "editable": true
   },
   "source": [
    "### lets define our graph\n",
    "- we'll use an epsilon based graph\n",
    "- lets viz to decide on e"
   ]
  },
  {
   "cell_type": "code",
   "execution_count": 9,
   "metadata": {
    "collapsed": false,
    "deletable": true,
    "editable": true
   },
   "outputs": [
    {
     "data": {
      "image/png": "[encoded data removed]",
      "text/plain": [
       "<matplotlib.figure.Figure at 0x1c80c704a20>"
      ]
     },
     "metadata": {},
     "output_type": "display_data"
    }
   ],
   "source": [
    "h = plt.hist(dists.flatten()[~np.isnan(dists.flatten())])"
   ]
  },
  {
   "cell_type": "markdown",
   "metadata": {},
   "source": [
    "### Note: the graph creation has a major influence on your results\n",
    "- KNN is nice because you wont have to worry about individually disconnected compoentnets like we do\n",
    "- but in our context it doesnt have as much meaning as a filter based on the correlation between stocks\n",
    "    - using knn we could result in connecting stocks with very little relation\n",
    "    - good alternative might be using knn and specifying weights \n",
    "- selecting the epsilon to cut your graph by makes a huge difference as well\n",
    "    - too high results is a very disconnected graph which "
   ]
  },
  {
   "cell_type": "code",
   "execution_count": 33,
   "metadata": {
    "collapsed": false,
    "deletable": true,
    "editable": true
   },
   "outputs": [],
   "source": [
    "A = dists > .4"
   ]
  },
  {
   "cell_type": "markdown",
   "metadata": {
    "deletable": true,
    "editable": true
   },
   "source": [
    "#### how reasonable is this choice?"
   ]
  },
  {
   "cell_type": "code",
   "execution_count": 11,
   "metadata": {
    "collapsed": false,
    "deletable": true,
    "editable": true
   },
   "outputs": [
    {
     "data": {
      "image/png": "[encoded data removed]",
      "text/plain": [
       "<matplotlib.figure.Figure at 0x1c80d5f3128>"
      ]
     },
     "metadata": {},
     "output_type": "display_data"
    }
   ],
   "source": [
    "degrees = A.sum(axis=0)\n",
    "h2 = plt.hist(degrees)"
   ]
  },
  {
   "cell_type": "code",
   "execution_count": 12,
   "metadata": {
    "collapsed": false,
    "deletable": true,
    "editable": true
   },
   "outputs": [
    {
     "data": {
      "text/plain": [
       "(10, 206)"
      ]
     },
     "execution_count": 12,
     "metadata": {},
     "output_type": "execute_result"
    }
   ],
   "source": [
    "sum(degrees == 1), sum(degrees > 1)"
   ]
  },
  {
   "cell_type": "markdown",
   "metadata": {
    "deletable": true,
    "editable": true
   },
   "source": [
    "### some stocks have correlation > .5 with 36 other stocks?"
   ]
  },
  {
   "cell_type": "code",
   "execution_count": 13,
   "metadata": {
    "collapsed": false,
    "deletable": true,
    "editable": true
   },
   "outputs": [
    {
     "data": {
      "text/plain": [
       "array(['DOV', 'PFG'], dtype=object)"
      ]
     },
     "execution_count": 13,
     "metadata": {},
     "output_type": "execute_result"
    }
   ],
   "source": [
    "ix = degrees > 60\n",
    "np.array(tidy_df.ticker)[ix]"
   ]
  },
  {
   "cell_type": "code",
   "execution_count": 14,
   "metadata": {
    "collapsed": false,
    "deletable": true,
    "editable": true
   },
   "outputs": [
    {
     "data": {
      "text/html": [
       "<div>\n",
       "<table border=\"1\" class=\"dataframe\">\n",
       "  <thead>\n",
       "    <tr style=\"text-align: right;\">\n",
       "      <th></th>\n",
       "      <th>0</th>\n",
       "      <th>1</th>\n",
       "    </tr>\n",
       "  </thead>\n",
       "  <tbody>\n",
       "    <tr>\n",
       "      <th>count</th>\n",
       "      <td>216.000000</td>\n",
       "      <td>216.000000</td>\n",
       "    </tr>\n",
       "    <tr>\n",
       "      <th>mean</th>\n",
       "      <td>0.297781</td>\n",
       "      <td>0.309462</td>\n",
       "    </tr>\n",
       "    <tr>\n",
       "      <th>std</th>\n",
       "      <td>0.186071</td>\n",
       "      <td>0.196935</td>\n",
       "    </tr>\n",
       "    <tr>\n",
       "      <th>min</th>\n",
       "      <td>-0.214002</td>\n",
       "      <td>-0.236916</td>\n",
       "    </tr>\n",
       "    <tr>\n",
       "      <th>25%</th>\n",
       "      <td>0.177733</td>\n",
       "      <td>0.187387</td>\n",
       "    </tr>\n",
       "    <tr>\n",
       "      <th>50%</th>\n",
       "      <td>0.272902</td>\n",
       "      <td>0.309924</td>\n",
       "    </tr>\n",
       "    <tr>\n",
       "      <th>75%</th>\n",
       "      <td>0.448611</td>\n",
       "      <td>0.442525</td>\n",
       "    </tr>\n",
       "    <tr>\n",
       "      <th>max</th>\n",
       "      <td>1.000000</td>\n",
       "      <td>1.000000</td>\n",
       "    </tr>\n",
       "  </tbody>\n",
       "</table>\n",
       "</div>"
      ],
      "text/plain": [
       "                0           1\n",
       "count  216.000000  216.000000\n",
       "mean     0.297781    0.309462\n",
       "std      0.186071    0.196935\n",
       "min     -0.214002   -0.236916\n",
       "25%      0.177733    0.187387\n",
       "50%      0.272902    0.309924\n",
       "75%      0.448611    0.442525\n",
       "max      1.000000    1.000000"
      ]
     },
     "execution_count": 14,
     "metadata": {},
     "output_type": "execute_result"
    }
   ],
   "source": [
    "pd.DataFrame(dists[:,ix]).describe()"
   ]
  },
  {
   "cell_type": "markdown",
   "metadata": {
    "deletable": true,
    "editable": true
   },
   "source": [
    "seems reasonable"
   ]
  },
  {
   "cell_type": "markdown",
   "metadata": {
    "deletable": true,
    "editable": true
   },
   "source": [
    "- PFG = principal financial\n",
    "    - likely highly correlated w their holdings"
   ]
  },
  {
   "cell_type": "markdown",
   "metadata": {
    "deletable": true,
    "editable": true
   },
   "source": [
    "##  spectrally Embed\n",
    "\n",
    "- recall the normalized laplacian and normal laplacian embedding and then the clustering are equivelent to the solution to minimize the following respectively:\n",
    "\n",
    "$$RatioCut(A_1, ..., A_k) = \\frac{1}{2} \\sum_{k=1}^k \\frac{W(A_i, A_i^c)}{|A_i|}$$ \n",
    "\n",
    "$$Ncut(A_1, ..., A_k) = \\frac{1}{2} \\sum_{k=1}^k \\frac{W(A_i, A_i^c)}{vol(A_i)}$$\n",
    "\n",
    "- Vol(Ai) = summation of the weights of the edges in this cluster = $\\sum di$\n",
    "    - di = degree of each node, **where degree is wrt this cluster only**\n",
    "- |Ai| = number of vertices in this cluster\n",
    "- $W(A_i, A_i^c)$ = summation of weights between the cluster and outside the cluster"
   ]
  },
  {
   "cell_type": "markdown",
   "metadata": {
    "deletable": true,
    "editable": true
   },
   "source": [
    "### Normalize or nah?\n",
    "- Note: the minimium to $\\sum \\frac{1}{|A_i|}$ and $\\sum \\frac{1}{vol(A_i)}$ are equal $|A_i|$s and $vol(A_i)$ respectively\n",
    "- notice if use KNN or have a roughly equal degree per node, it doesn't really matter which one we use\n",
    "- but if we have a high variability in our degrees, we need to decide whether we want to punish wrt number of degrees or total number of connections and their weights within a cluster\n",
    "- in this context we go with the normalized laplacian\n",
    "    - otherwise due to the high variablilty we'll be biased to have few clusters include some very connected nodes/stocks "
   ]
  },
  {
   "cell_type": "markdown",
   "metadata": {
    "deletable": true,
    "editable": true
   },
   "source": [
    "#### normed"
   ]
  },
  {
   "cell_type": "code",
   "execution_count": 35,
   "metadata": {
    "collapsed": false,
    "deletable": true,
    "editable": true
   },
   "outputs": [
    {
     "data": {
      "image/png": "[encoded data removed]",
      "text/plain": [
       "<matplotlib.figure.Figure at 0x1c80ef0e1d0>"
      ]
     },
     "metadata": {},
     "output_type": "display_data"
    }
   ],
   "source": [
    "def spect_embed(A, normed=True, dimshow=30):\n",
    "    D = np.diag(A.sum(axis=0))\n",
    "    L = D - A\n",
    "    if normed:\n",
    "        Dsqrt = np.diag(1/np.sqrt(A.sum(axis=0)))\n",
    "        Ln = np.dot(np.dot(Dsqrt, L), Dsqrt)\n",
    "    else:\n",
    "        Ln=L\n",
    "    lams, eigs = np.linalg.eig(Ln)\n",
    "    plt.scatter(range(1, 1+len(lams)), sorted(lams))\n",
    "    plt.xlim(0,dimshow)\n",
    "    plt.grid()\n",
    "    return eigs, lams\n",
    "\n",
    "eigs, lams = spect_embed(A, normed=True)"
   ]
  },
  {
   "cell_type": "markdown",
   "metadata": {
    "deletable": true,
    "editable": true
   },
   "source": [
    "- we'll use the gap statistic to decide on the number of dimensions we want to use to represent our graph\n",
    "    - we'll try 12 and 20\n",
    "- notice going with 12 eigenvectors we would result in entirely disconnected clusters\n",
    "    - this is the ideal case where clusters is very trivial\n",
    "- notice the higher the cut point for connection in our graph the more lambdas = 0"
   ]
  },
  {
   "cell_type": "markdown",
   "metadata": {
    "deletable": true,
    "editable": true
   },
   "source": [
    "### looking at the 1st 2 eigenvectors"
   ]
  },
  {
   "cell_type": "code",
   "execution_count": 16,
   "metadata": {
    "collapsed": false,
    "deletable": true,
    "editable": true
   },
   "outputs": [
    {
     "data": {
      "text/plain": [
       "<matplotlib.collections.PathCollection at 0x1c80d6b31d0>"
      ]
     },
     "execution_count": 16,
     "metadata": {},
     "output_type": "execute_result"
    },
    {
     "data": {
      "image/png": "[encoded data removed]",
      "text/plain": [
       "<matplotlib.figure.Figure at 0x1c80d368ba8>"
      ]
     },
     "metadata": {},
     "output_type": "display_data"
    }
   ],
   "source": [
    "plt.scatter(eigs[:,0], eigs[:,1])"
   ]
  },
  {
   "cell_type": "markdown",
   "metadata": {},
   "source": [
    "pretty good separation in these 2 dimensions hopefully improves as we increase our number of dimensions"
   ]
  },
  {
   "cell_type": "markdown",
   "metadata": {},
   "source": [
    "### try increasing epsilon"
   ]
  },
  {
   "cell_type": "code",
   "execution_count": 37,
   "metadata": {
    "collapsed": false
   },
   "outputs": [
    {
     "data": {
      "image/png": "[encoded data removed]",
      "text/plain": [
       "<matplotlib.figure.Figure at 0x1c80ede1b00>"
      ]
     },
     "metadata": {},
     "output_type": "display_data"
    },
    {
     "data": {
      "text/plain": [
       "<matplotlib.collections.PathCollection at 0x1c80cd334a8>"
      ]
     },
     "execution_count": 37,
     "metadata": {},
     "output_type": "execute_result"
    },
    {
     "data": {
      "image/png": "[encoded data removed]",
      "text/plain": [
       "<matplotlib.figure.Figure at 0x1c80c881d68>"
      ]
     },
     "metadata": {},
     "output_type": "display_data"
    }
   ],
   "source": [
    "A = dists > .5\n",
    "eigs5, lams5 = spect_embed(A, normed=True, dimshow=100)\n",
    "plt.show()\n",
    "plt.scatter(eigs5[:,0], eigs5[:,1])"
   ]
  },
  {
   "cell_type": "code",
   "execution_count": 41,
   "metadata": {
    "collapsed": false
   },
   "outputs": [
    {
     "name": "stdout",
     "output_type": "stream",
     "text": [
      "percentage of possible realized connections: 0.08633401920438957\n",
      "percentage of possible realized connections: 0.035193758573388204\n"
     ]
    }
   ],
   "source": [
    "for i in [.4,.5]:\n",
    "    Ai = dists > i\n",
    "    print('percentage of possible realized connections: {}'.format(\n",
    "        sum(Ai.sum(axis=1)) / (len(Ai)**2)))"
   ]
  },
  {
   "cell_type": "markdown",
   "metadata": {},
   "source": [
    "- here we can see very distinct separation, because of the highly disconnected graph"
   ]
  },
  {
   "cell_type": "markdown",
   "metadata": {
    "deletable": true,
    "editable": true
   },
   "source": [
    "## lets look at lower dimensional projection of this normlaized space (tsne)\n",
    "- we'll use tsne, as its good for visualizing very high dimensional spaces into 2-3 dimensions\n",
    "- \"It converts similarities between data points to joint probabilities and tries to minimize the Kullback-Leibler divergence between the joint probabilities of the low-dimensional embedding and the high-dimensional data.\" http://scikit-learn.org/stable/modules/generated/sklearn.manifold.TSNE.html\n",
    "- Some important points to note when using tsne:\n",
    "    - cluster sizes in tsne don't mean anything\n",
    "    - distances between clusters don't mean anything\n",
    "    - perplexity recommendation: 5-50 \n",
    "        - changing this will change your plot\n",
    "    - more details: https://distill.pub/2016/misread-tsne/ (great examples)"
   ]
  },
  {
   "cell_type": "code",
   "execution_count": 17,
   "metadata": {
    "collapsed": false,
    "deletable": true,
    "editable": true,
    "scrolled": true
   },
   "outputs": [
    {
     "data": {
      "image/png": "[encoded data removed]",
      "text/plain": [
       "<matplotlib.figure.Figure at 0x1c80d6c2cc0>"
      ]
     },
     "metadata": {},
     "output_type": "display_data"
    },
    {
     "data": {
      "image/png": "[encoded data removed]",
      "text/plain": [
       "<matplotlib.figure.Figure at 0x1c80d629c18>"
      ]
     },
     "metadata": {},
     "output_type": "display_data"
    },
    {
     "data": {
      "image/png": "[encoded data removed]",
      "text/plain": [
       "<matplotlib.figure.Figure at 0x1c80ed693c8>"
      ]
     },
     "metadata": {},
     "output_type": "display_data"
    }
   ],
   "source": [
    "from sklearn.manifold import TSNE\n",
    "\n",
    "def tsne_2dplot(df, perp=30, n_iter=1000):\n",
    "    tsne = TSNE(n_components=2, perplexity=perp, n_iter=n_iter)\n",
    "    embs = tsne.fit_transform(df)\n",
    "    plt.scatter(embs[:,0], embs[:,1], alpha=.5)\n",
    "    plt.grid()\n",
    "    plt.show()\n",
    "    \n",
    "for i in [1000, 5000, 10000]:\n",
    "    tsne_2dplot(eigs[:,:6], n_iter=i)"
   ]
  },
  {
   "cell_type": "markdown",
   "metadata": {},
   "source": [
    "- why isnt this performing?\n",
    "    - potentially because of the high imbalances in the clusters\n",
    "    - possible to have overlapping points"
   ]
  },
  {
   "cell_type": "markdown",
   "metadata": {
    "deletable": true,
    "editable": true
   },
   "source": [
    "### kmeans\n",
    "- http://scikit-learn.org/stable/modules/generated/sklearn.cluster.KMeans.html\n",
    "- notice one nice thing about kmeans that hclust doesnt have is it easily extends to the testing set\n",
    "- for spectral clustering we set k = k determined from the eigengap\n",
    "    - for general kmeans set k like you would for most clustering algorithnms\n",
    "    - look for a gap in WCSS = $\\sum_{(x_i, x_j) \\ in \\ C} d(x_i, x_j)$ sum over the distances between every observation in every cluster\n",
    "    - better method is to compare the differences between WCSS from your data and some uniformly generated data\n",
    "        - see page 520 of ESL: https://web.stanford.edu/~hastie/Papers/ESLII.pdf\n",
    "        - book is unreal btw\n",
    "- kmeans in thoery should work very well on spectral embeddings\n",
    "- but in other situations the assumptions are often unrealistic\n",
    "    - heres a great blog about it: http://varianceexplained.org/r/kmeans-free-lunch/"
   ]
  },
  {
   "cell_type": "code",
   "execution_count": 18,
   "metadata": {
    "collapsed": false,
    "deletable": true,
    "editable": true
   },
   "outputs": [
    {
     "name": "stdout",
     "output_type": "stream",
     "text": [
      "    counts\n",
      "17       1\n",
      "3        2\n",
      "10       2\n",
      "1        3\n",
      "6        3\n",
      "    counts\n",
      "0       72\n",
      "5       29\n",
      "18      24\n",
      "9       19\n",
      "4       11\n"
     ]
    }
   ],
   "source": [
    "from sklearn.cluster import KMeans\n",
    "\n",
    "kmeans = KMeans(n_clusters=20, max_iter=300)\n",
    "kmeans.fit(eigs[:,:20])\n",
    "labels = kmeans.labels_\n",
    "\n",
    "tidy_df['clust'] = labels\n",
    "clust_counts = pd.DataFrame(tidy_df.groupby(\n",
    "    'clust').count().reset_index().iloc[:,1]).rename(\n",
    "    columns={'ticker':'counts'}\n",
    ")\n",
    "\n",
    "print(clust_counts.sort_values(by='counts').head())\n",
    "print(clust_counts.sort_values(by='counts', ascending=False).head())"
   ]
  },
  {
   "cell_type": "code",
   "execution_count": 19,
   "metadata": {
    "collapsed": false,
    "deletable": true,
    "editable": true
   },
   "outputs": [
    {
     "data": {
      "image/png": "[encoded data removed]",
      "text/plain": [
       "<matplotlib.figure.Figure at 0x1c80d6c2ef0>"
      ]
     },
     "metadata": {},
     "output_type": "display_data"
    }
   ],
   "source": [
    "h = plt.hist(clust_counts.counts)"
   ]
  },
  {
   "cell_type": "code",
   "execution_count": 27,
   "metadata": {
    "collapsed": false
   },
   "outputs": [
    {
     "data": {
      "text/plain": [
       "(216, 216)"
      ]
     },
     "execution_count": 27,
     "metadata": {},
     "output_type": "execute_result"
    }
   ],
   "source": [
    "eigs.shape"
   ]
  },
  {
   "cell_type": "markdown",
   "metadata": {},
   "source": [
    "- these cluster sizes are too small to be comfortabl with, likely overfit to our data (20 clusters on 216 data points is likely going to overfit)"
   ]
  },
  {
   "cell_type": "code",
   "execution_count": 45,
   "metadata": {
    "collapsed": false
   },
   "outputs": [
    {
     "name": "stdout",
     "output_type": "stream",
     "text": [
      "    counts\n",
      "7        2\n",
      "8        2\n",
      "5        3\n",
      "10       3\n",
      "9        6\n",
      "   counts\n",
      "1     102\n",
      "2      29\n",
      "3      19\n",
      "4      18\n",
      "0      14\n"
     ]
    }
   ],
   "source": [
    "from sklearn.cluster import KMeans\n",
    "\n",
    "kmeans = KMeans(n_clusters=12, max_iter=300)\n",
    "kmeans.fit(eigs[:,:12])\n",
    "labels = kmeans.labels_\n",
    "\n",
    "tidy_df['clust'] = labels\n",
    "clust_counts = pd.DataFrame(tidy_df.groupby(\n",
    "    'clust').count().reset_index().iloc[:,1]).rename(\n",
    "    columns={'ticker':'counts'}\n",
    ")\n",
    "\n",
    "print(clust_counts.sort_values(by='counts').head())\n",
    "print(clust_counts.sort_values(by='counts', ascending=False).head())"
   ]
  },
  {
   "cell_type": "markdown",
   "metadata": {
    "deletable": true,
    "editable": true
   },
   "source": [
    "### lets intuitively validate"
   ]
  },
  {
   "cell_type": "code",
   "execution_count": 26,
   "metadata": {
    "collapsed": false,
    "deletable": true,
    "editable": true,
    "scrolled": true
   },
   "outputs": [
    {
     "data": {
      "text/plain": [
       "1       AAPL\n",
       "6       ADBE\n",
       "10      ADSK\n",
       "18       ALB\n",
       "23      AMZN\n",
       "28       APH\n",
       "59       CRM\n",
       "70       DNB\n",
       "83      EXPE\n",
       "86      FISV\n",
       "96     GOOGL\n",
       "112     INTC\n",
       "144     MSFT\n",
       "151     NFLX\n",
       "217     YHOO\n",
       "Name: ticker, dtype: object"
      ]
     },
     "execution_count": 26,
     "metadata": {},
     "output_type": "execute_result"
    }
   ],
   "source": [
    "goog_row = tidy_df.ticker == 'AAPL'\n",
    "goog_clust = labels[goog_row]\n",
    "clustix =  labels == goog_clust\n",
    "tidy_df.ticker.loc[tidy_df.index[clustix]]"
   ]
  },
  {
   "cell_type": "markdown",
   "metadata": {},
   "source": [
    "### compare with our more disconnected graph\n",
    "- lets try 12 clusters as well"
   ]
  },
  {
   "cell_type": "code",
   "execution_count": 47,
   "metadata": {
    "collapsed": false
   },
   "outputs": [
    {
     "name": "stdout",
     "output_type": "stream",
     "text": [
      "   counts\n",
      "2       1\n",
      "5       1\n",
      "8       1\n",
      "6       2\n",
      "3       3\n",
      "    counts\n",
      "0      165\n",
      "10      19\n",
      "7        9\n",
      "1        6\n",
      "3        3\n"
     ]
    }
   ],
   "source": [
    "from sklearn.cluster import KMeans\n",
    "\n",
    "kmeans = KMeans(n_clusters=12, max_iter=300)\n",
    "kmeans.fit(eigs5[:,:12])\n",
    "labels = kmeans.labels_\n",
    "\n",
    "tidy_df['clust5'] = labels\n",
    "clust_counts = pd.DataFrame(tidy_df.groupby(\n",
    "    'clust5').count().reset_index().iloc[:,1]).rename(\n",
    "    columns={'ticker':'counts'}\n",
    ")\n",
    "\n",
    "print(clust_counts.sort_values(by='counts').head())\n",
    "print(clust_counts.sort_values(by='counts', ascending=False).head())"
   ]
  },
  {
   "cell_type": "markdown",
   "metadata": {},
   "source": [
    "- more concentration into a smaller number of clusters, less valuable for supervised leanring, \n",
    "- clusters w very small counts arent as valuable because fitting features based on them have more potential to overfit, clusters with huge counts dont have as much value because theyre not representing as much information about a sector"
   ]
  },
  {
   "cell_type": "markdown",
   "metadata": {
    "deletable": true,
    "editable": true
   },
   "source": [
    "### for fun lets see how much variance we cover w different pca vectors\n",
    "- http://scikit-learn.org/stable/modules/generated/sklearn.decomposition.PCA.html\n",
    "- **always scale before PCA!**\n",
    "- although in this situation likely pretty similar means and variances across eigenvectors so probably not too important"
   ]
  },
  {
   "cell_type": "code",
   "execution_count": 48,
   "metadata": {
    "collapsed": false,
    "deletable": true,
    "editable": true
   },
   "outputs": [
    {
     "data": {
      "text/plain": [
       "array([ 0.05568544,  0.11096745,  0.16624945,  0.22153146,  0.27681347,\n",
       "        0.33209547,  0.38737748,  0.44265949,  0.49794149,  0.5532235 ])"
      ]
     },
     "execution_count": 48,
     "metadata": {},
     "output_type": "execute_result"
    }
   ],
   "source": [
    "from sklearn.decomposition import PCA\n",
    "\n",
    "pca = PCA(n_components=10)\n",
    "pca.fit(eigs[:,1:20])\n",
    "np.cumsum(pca.explained_variance_ratio_[:10])"
   ]
  },
  {
   "cell_type": "markdown",
   "metadata": {
    "deletable": true,
    "editable": true
   },
   "source": [
    "- as expected would not be a great visualixation tool\n",
    "- to eval in general whether pca would be good, look at the pearson correaltions between your features\n",
    "    - if theyre high pca (a linear approximator) would work well\n",
    "    - whereas if pearson is low, and spearman is high, pca wouldn't work as well"
   ]
  },
  {
   "cell_type": "markdown",
   "metadata": {},
   "source": [
    "## Supervised\n",
    "- using the clusters we realized above, lets derive some simple features for each day, and attempt to predict returns > 0"
   ]
  },
  {
   "cell_type": "markdown",
   "metadata": {},
   "source": [
    "#### first we'll bring in more data\n",
    "- important not to contaminate our data w unseen biases by Feature engineering (when deriving features wrt the dependent variable) training and testing on separate data, hopefully you have enough data to do so\n",
    "- we dont so we didnt\n",
    "    - tried clustering on a reduced number of weeks as a holdout set "
   ]
  },
  {
   "cell_type": "code",
   "execution_count": 49,
   "metadata": {
    "collapsed": false
   },
   "outputs": [
    {
     "name": "stdout",
     "output_type": "stream",
     "text": [
      "shape of df: (22438, 3), \n",
      "\n",
      " describe this df: \n",
      "         daily1_rets\n",
      "count  22438.000000\n",
      "mean       0.000564\n",
      "std        0.013967\n",
      "min       -0.176488\n",
      "25%       -0.005289\n",
      "50%        0.000573\n",
      "75%        0.006909\n",
      "max        0.234001, \n",
      "\n",
      " num ticks: 219\n"
     ]
    }
   ],
   "source": [
    "host = 'localhost'\n",
    "user='Brydon'\n",
    "passwd=\"mysql_root2456\"\n",
    "db='fin_project'\n",
    "\n",
    "engine = create_engine(\"mysql+mysqldb://{}:{}@{}:3306/{}\".format(\n",
    "    user, passwd, host, db\n",
    "))\n",
    "df = pd.read_sql(\"\"\"select daily1_rets, ticker, date \n",
    "                    from hist_daily_rets0919_2017\n",
    "                    where date > '2017-01-01'\n",
    "                \"\"\", \n",
    "                 con=engine)\n",
    "\n",
    "print('shape of df: {}, \\n\\n describe this df: \\n {}, \\n\\n num ticks: {}'.format(\n",
    "    df.shape, df.describe(), len(df.ticker.unique())))"
   ]
  },
  {
   "cell_type": "markdown",
   "metadata": {},
   "source": [
    "#### features\n",
    "- we'll use the day before's return for a given stock, and the average return from the day before in its cluster"
   ]
  },
  {
   "cell_type": "code",
   "execution_count": 50,
   "metadata": {
    "collapsed": false
   },
   "outputs": [
    {
     "ename": "NameError",
     "evalue": "name 'spectral_FE' is not defined",
     "output_type": "error",
     "traceback": [
      "\u001b[1;31m---------------------------------------------------------------------------\u001b[0m",
      "\u001b[1;31mNameError\u001b[0m                                 Traceback (most recent call last)",
      "\u001b[1;32m<ipython-input-50-3862cd7bf7e4>\u001b[0m in \u001b[0;36m<module>\u001b[1;34m()\u001b[0m\n\u001b[1;32m----> 1\u001b[1;33m \u001b[0mfeats\u001b[0m \u001b[1;33m=\u001b[0m \u001b[0mspectral_FE\u001b[0m\u001b[1;33m(\u001b[0m\u001b[0mdf\u001b[0m\u001b[1;33m,\u001b[0m \u001b[0mtidy_df\u001b[0m\u001b[1;33m,\u001b[0m \u001b[0mdep\u001b[0m\u001b[1;33m=\u001b[0m\u001b[1;34m'daily1_rets'\u001b[0m\u001b[1;33m)\u001b[0m\u001b[1;33m\u001b[0m\u001b[0m\n\u001b[0m",
      "\u001b[1;31mNameError\u001b[0m: name 'spectral_FE' is not defined"
     ]
    }
   ],
   "source": [
    "feats = spectral_FE(df, tidy_df, dep='daily1_rets')"
   ]
  },
  {
   "cell_type": "markdown",
   "metadata": {},
   "source": [
    "- here's an error message in case you want to see, you'll see them alot :)\n",
    "- tips: \n",
    "    - L on a cell gives you numbers\n",
    "    - stack overflow will save your life so many times, superman < helpful people on stack overflow\n",
    "        - every bug that bites you probably has a solution on stack overflow"
   ]
  },
  {
   "cell_type": "code",
   "execution_count": 51,
   "metadata": {
    "collapsed": false
   },
   "outputs": [
    {
     "name": "stdout",
     "output_type": "stream",
     "text": [
      "head check daynums:    daynum ticker        date\n",
      "0       0    AAP  2017-01-03\n",
      "1       0    AAP  2017-01-04\n",
      "2       1    AAP  2017-01-05\n",
      "3       2    AAP  2017-01-06\n",
      "4       3    AAP  2017-01-09 \n",
      "\n",
      "\n",
      "shape before join: (22248, 6)\n",
      "shape after join: (22032, 9)\n",
      "   daily1_rets ticker        date  clust  daynum  daynum_p1  \\\n",
      "0     0.008207    AAP  2017-01-03      1       0          1   \n",
      "1    -0.000698    AAP  2017-01-04      1       0          1   \n",
      "2    -0.013091    AAP  2017-01-05      1       1          2   \n",
      "3    -0.000589    AAP  2017-01-06      1       2          3   \n",
      "4     0.002300    AAP  2017-01-09      1       3          4   \n",
      "\n",
      "   daily1_rets_1_days_ago  daynum_p1_1_days_ago  daynum_1_days_ago  \n",
      "0               -0.013091                     2                  1  \n",
      "1               -0.013091                     2                  1  \n",
      "2               -0.000589                     3                  2  \n",
      "3                0.002300                     4                  3  \n",
      "4                0.020657                     5                  4  \n",
      "   clust      mean       std    median       max       min\n",
      "0      0  0.002035  0.011810  0.001517  0.146927 -0.168123\n",
      "1      1  0.000816  0.013608  0.000733  0.234001 -0.176488\n",
      "2      2  0.000986  0.008691  0.001188  0.058119 -0.066219\n",
      "3      3 -0.001961  0.018411 -0.002026  0.107326 -0.086612\n",
      "4      4  0.001433  0.012885  0.000868  0.194966 -0.112813\n"
     ]
    }
   ],
   "source": [
    "class spectral_FE(object):\n",
    "    \"\"\"\n",
    "    return features derived from specrtal clusters\n",
    "    \"\"\"\n",
    "\n",
    "    def __init__(self, ret_df, clusts, dep='daily1_rets', n=1):\n",
    "        \"\"\"\n",
    "        :param ret_df:\n",
    "        :param clusts: df w ticker and clust cols\n",
    "        \"\"\"\n",
    "        self.df = ret_df\n",
    "        self.dep = dep\n",
    "        self.n = n\n",
    "        self.df = self.df.merge(clusts[['ticker', 'clust']],\n",
    "                                        how='inner', on=['ticker'])\n",
    "        self.get_daynums()\n",
    "        self.join_ndays_ago_on()\n",
    "        self.get_clust_feats()\n",
    "\n",
    "\n",
    "    def get_daynums(self):\n",
    "        \"\"\"\n",
    "        add daynums to self\n",
    "        :return:\n",
    "        \"\"\"\n",
    "        self.df = self.df.sort_values(by=['ticker', 'date'])\n",
    "        daynum = 0\n",
    "        daynums = []\n",
    "        tick = None\n",
    "        for i in self.df.index:\n",
    "            daynums.append(daynum)\n",
    "            if tick is not None:\n",
    "                if self.df.ticker.loc[i] == tick:\n",
    "                    daynum += 1\n",
    "                else:\n",
    "                    daynum = 0\n",
    "            tick = self.df.ticker.loc[i]\n",
    "        self.df['daynum'] = daynums\n",
    "        print('head check daynums: {} \\n\\n'.format(self.df[['daynum', 'ticker', 'date']].head()))\n",
    "\n",
    "\n",
    "    def join_ndays_ago_on(self):\n",
    "        \"\"\"\n",
    "        join on dep for n days ago\n",
    "        :return:\n",
    "        \"\"\"\n",
    "        n = self.n\n",
    "        daynumpn = 'daynum_p{}'.format(n)\n",
    "        self.df[daynumpn] = self.df.daynum + n\n",
    "        print('shape before join: {}'.format(self.df.shape))\n",
    "        self.df = self.df.merge(\n",
    "            self.df[['ticker', self.dep, daynumpn, 'daynum']],\n",
    "            how='inner',\n",
    "            left_on = ['ticker', daynumpn],\n",
    "            right_on = ['ticker', 'daynum'],\n",
    "            suffixes=['', '_{}_days_ago'.format(n)]\n",
    "        )\n",
    "        print('shape after join: {}'.format(self.df.shape))\n",
    "        print(self.df.head())\n",
    "\n",
    "    def get_clust_feats(self, funcs=[np.mean, np.std, np.median, max, min]):\n",
    "        col = '{}_{}_days_ago'.format(self.dep, self.n)\n",
    "        clusts = self.df.groupby(['clust'])[col].aggregate(funcs).reset_index()\n",
    "        print(clusts.head()) \n",
    "        #[self.dep].aggregate(funcs).reset_index()\n",
    "        self.df = self.df.merge(clusts, on='clust', how='inner')\n",
    "        \n",
    "feats = spectral_FE(df, tidy_df, dep='daily1_rets')"
   ]
  },
  {
   "cell_type": "code",
   "execution_count": 52,
   "metadata": {
    "collapsed": false
   },
   "outputs": [
    {
     "data": {
      "text/html": [
       "<div>\n",
       "<table border=\"1\" class=\"dataframe\">\n",
       "  <thead>\n",
       "    <tr style=\"text-align: right;\">\n",
       "      <th></th>\n",
       "      <th>daily1_rets</th>\n",
       "      <th>ticker</th>\n",
       "      <th>date</th>\n",
       "      <th>clust</th>\n",
       "      <th>daynum</th>\n",
       "      <th>daynum_p1</th>\n",
       "      <th>daily1_rets_1_days_ago</th>\n",
       "      <th>daynum_p1_1_days_ago</th>\n",
       "      <th>daynum_1_days_ago</th>\n",
       "      <th>mean</th>\n",
       "      <th>std</th>\n",
       "      <th>median</th>\n",
       "      <th>max</th>\n",
       "      <th>min</th>\n",
       "    </tr>\n",
       "  </thead>\n",
       "  <tbody>\n",
       "    <tr>\n",
       "      <th>0</th>\n",
       "      <td>0.008207</td>\n",
       "      <td>AAP</td>\n",
       "      <td>2017-01-03</td>\n",
       "      <td>1</td>\n",
       "      <td>0</td>\n",
       "      <td>1</td>\n",
       "      <td>-0.013091</td>\n",
       "      <td>2</td>\n",
       "      <td>1</td>\n",
       "      <td>0.000816</td>\n",
       "      <td>0.013608</td>\n",
       "      <td>0.000733</td>\n",
       "      <td>0.234001</td>\n",
       "      <td>-0.176488</td>\n",
       "    </tr>\n",
       "    <tr>\n",
       "      <th>1</th>\n",
       "      <td>-0.000698</td>\n",
       "      <td>AAP</td>\n",
       "      <td>2017-01-04</td>\n",
       "      <td>1</td>\n",
       "      <td>0</td>\n",
       "      <td>1</td>\n",
       "      <td>-0.013091</td>\n",
       "      <td>2</td>\n",
       "      <td>1</td>\n",
       "      <td>0.000816</td>\n",
       "      <td>0.013608</td>\n",
       "      <td>0.000733</td>\n",
       "      <td>0.234001</td>\n",
       "      <td>-0.176488</td>\n",
       "    </tr>\n",
       "    <tr>\n",
       "      <th>2</th>\n",
       "      <td>-0.013091</td>\n",
       "      <td>AAP</td>\n",
       "      <td>2017-01-05</td>\n",
       "      <td>1</td>\n",
       "      <td>1</td>\n",
       "      <td>2</td>\n",
       "      <td>-0.000589</td>\n",
       "      <td>3</td>\n",
       "      <td>2</td>\n",
       "      <td>0.000816</td>\n",
       "      <td>0.013608</td>\n",
       "      <td>0.000733</td>\n",
       "      <td>0.234001</td>\n",
       "      <td>-0.176488</td>\n",
       "    </tr>\n",
       "    <tr>\n",
       "      <th>3</th>\n",
       "      <td>-0.000589</td>\n",
       "      <td>AAP</td>\n",
       "      <td>2017-01-06</td>\n",
       "      <td>1</td>\n",
       "      <td>2</td>\n",
       "      <td>3</td>\n",
       "      <td>0.002300</td>\n",
       "      <td>4</td>\n",
       "      <td>3</td>\n",
       "      <td>0.000816</td>\n",
       "      <td>0.013608</td>\n",
       "      <td>0.000733</td>\n",
       "      <td>0.234001</td>\n",
       "      <td>-0.176488</td>\n",
       "    </tr>\n",
       "    <tr>\n",
       "      <th>4</th>\n",
       "      <td>0.002300</td>\n",
       "      <td>AAP</td>\n",
       "      <td>2017-01-09</td>\n",
       "      <td>1</td>\n",
       "      <td>3</td>\n",
       "      <td>4</td>\n",
       "      <td>0.020657</td>\n",
       "      <td>5</td>\n",
       "      <td>4</td>\n",
       "      <td>0.000816</td>\n",
       "      <td>0.013608</td>\n",
       "      <td>0.000733</td>\n",
       "      <td>0.234001</td>\n",
       "      <td>-0.176488</td>\n",
       "    </tr>\n",
       "  </tbody>\n",
       "</table>\n",
       "</div>"
      ],
      "text/plain": [
       "   daily1_rets ticker        date  clust  daynum  daynum_p1  \\\n",
       "0     0.008207    AAP  2017-01-03      1       0          1   \n",
       "1    -0.000698    AAP  2017-01-04      1       0          1   \n",
       "2    -0.013091    AAP  2017-01-05      1       1          2   \n",
       "3    -0.000589    AAP  2017-01-06      1       2          3   \n",
       "4     0.002300    AAP  2017-01-09      1       3          4   \n",
       "\n",
       "   daily1_rets_1_days_ago  daynum_p1_1_days_ago  daynum_1_days_ago      mean  \\\n",
       "0               -0.013091                     2                  1  0.000816   \n",
       "1               -0.013091                     2                  1  0.000816   \n",
       "2               -0.000589                     3                  2  0.000816   \n",
       "3                0.002300                     4                  3  0.000816   \n",
       "4                0.020657                     5                  4  0.000816   \n",
       "\n",
       "        std    median       max       min  \n",
       "0  0.013608  0.000733  0.234001 -0.176488  \n",
       "1  0.013608  0.000733  0.234001 -0.176488  \n",
       "2  0.013608  0.000733  0.234001 -0.176488  \n",
       "3  0.013608  0.000733  0.234001 -0.176488  \n",
       "4  0.013608  0.000733  0.234001 -0.176488  "
      ]
     },
     "execution_count": 52,
     "metadata": {},
     "output_type": "execute_result"
    }
   ],
   "source": [
    "feats.df.head()"
   ]
  },
  {
   "cell_type": "code",
   "execution_count": 53,
   "metadata": {
    "collapsed": false
   },
   "outputs": [
    {
     "data": {
      "text/plain": [
       "Index(['daily1_rets', 'ticker', 'date', 'clust', 'daynum', 'daynum_p1',\n",
       "       'daily1_rets_1_days_ago', 'daynum_p1_1_days_ago', 'daynum_1_days_ago',\n",
       "       'mean', 'std', 'median', 'max', 'min'],\n",
       "      dtype='object')"
      ]
     },
     "execution_count": 53,
     "metadata": {},
     "output_type": "execute_result"
    }
   ],
   "source": [
    "feats.df.columns"
   ]
  },
  {
   "cell_type": "markdown",
   "metadata": {},
   "source": [
    "at this point I'd switch over to R\n",
    "\n",
    "\n",
    "### train test\n",
    "- notice this is a flawed training and testing split"
   ]
  },
  {
   "cell_type": "code",
   "execution_count": 54,
   "metadata": {
    "collapsed": false
   },
   "outputs": [
    {
     "data": {
      "text/plain": [
       "((17705, 15), (4327, 15))"
      ]
     },
     "execution_count": 54,
     "metadata": {},
     "output_type": "execute_result"
    }
   ],
   "source": [
    "feats.df['y'] = feats.df.daily1_rets > 0\n",
    "\n",
    "trix = np.array([np.random.random() < .8 for i in range(len(feats.df))])\n",
    "train = feats.df.loc[feats.df.index[trix]]\n",
    "test = feats.df.loc[feats.df.index[~trix]]\n",
    "\n",
    "train.shape, test.shape"
   ]
  },
  {
   "cell_type": "code",
   "execution_count": 55,
   "metadata": {
    "collapsed": false
   },
   "outputs": [
    {
     "data": {
      "text/plain": [
       "0.52425868398757414"
      ]
     },
     "execution_count": 55,
     "metadata": {},
     "output_type": "execute_result"
    }
   ],
   "source": [
    "feat_cols = ['daily1_rets_1_days_ago', 'mean', 'std', 'median', 'max', 'min']\n",
    "\n",
    "from sklearn.linear_model import LogisticRegression\n",
    "lr1 = LogisticRegression()\n",
    "\n",
    "\n",
    "lr1.fit(train[feat_cols], train.y)\n",
    "lr1.score(train[feat_cols], train.y)"
   ]
  },
  {
   "cell_type": "markdown",
   "metadata": {},
   "source": [
    "- notice this value is close to meaningless, most of the time accuracy sucks\n",
    "- and it really sucks when you dont know the underlying split\n",
    "- also note the score on the training set doesnt tell you much, (ramp up the parameters on random forest, and you'll be unreal on training sets)\n",
    "- for a metric of eval understand confusion matrices and what to use when\n",
    "    - ex: sometimes you only care about how many of your tve predictions are correct (use precision)\n",
    "    - or you only care about missing as few positives as possible (use recall / TPR)\n",
    "    - https://en.wikipedia.org/wiki/Precision_and_recall\n",
    "    \n",
    "    "
   ]
  },
  {
   "cell_type": "code",
   "execution_count": 63,
   "metadata": {
    "collapsed": false
   },
   "outputs": [
    {
     "data": {
      "image/png": "[encoded data removed]",
      "text/plain": [
       "<matplotlib.figure.Figure at 0x1c8125460f0>"
      ]
     },
     "metadata": {},
     "output_type": "display_data"
    }
   ],
   "source": [
    "preds = lr1.predict_proba(test[feat_cols])\n",
    "h=plt.hist(preds[:,1])"
   ]
  },
  {
   "cell_type": "code",
   "execution_count": 64,
   "metadata": {
    "collapsed": false
   },
   "outputs": [
    {
     "data": {
      "text/plain": [
       "array([[2050,   16],\n",
       "       [2255,    6]])"
      ]
     },
     "execution_count": 64,
     "metadata": {},
     "output_type": "execute_result"
    }
   ],
   "source": [
    "from sklearn.metrics import confusion_matrix\n",
    "confusion_matrix(test.y, preds[:,1]>.55)"
   ]
  },
  {
   "cell_type": "markdown",
   "metadata": {},
   "source": [
    "### best way to understand a binary clasifier is to plot it\n",
    "- ROC or lift curve\n",
    "- http://blog.yhat.com/posts/roc-curves.html"
   ]
  },
  {
   "cell_type": "markdown",
   "metadata": {},
   "source": [
    "### ROC"
   ]
  },
  {
   "cell_type": "code",
   "execution_count": 56,
   "metadata": {
    "collapsed": false,
    "scrolled": true
   },
   "outputs": [
    {
     "data": {
      "image/png": "[encoded data removed]",
      "text/plain": [
       "<matplotlib.figure.Figure at 0x1c80ece97f0>"
      ]
     },
     "metadata": {},
     "output_type": "display_data"
    },
    {
     "data": {
      "text/plain": [
       "<ggplot: (122422094235)>"
      ]
     },
     "execution_count": 56,
     "metadata": {},
     "output_type": "execute_result"
    }
   ],
   "source": [
    "from sklearn import metrics\n",
    "from ggplot import *\n",
    "\n",
    "fpr, tpr, _ = metrics.roc_curve(test.y, preds[:,1])\n",
    "\n",
    "df = pd.DataFrame(dict(fpr=fpr, tpr=tpr))\n",
    "ggplot(df, aes(x='fpr', y='tpr')) +\\\n",
    "    geom_line() +\\\n",
    "    geom_abline(linetype='dashed')"
   ]
  },
  {
   "cell_type": "markdown",
   "metadata": {},
   "source": [
    "## Lift"
   ]
  },
  {
   "cell_type": "code",
   "execution_count": 57,
   "metadata": {
    "collapsed": false
   },
   "outputs": [
    {
     "data": {
      "image/png": "[encoded data removed]",
      "text/plain": [
       "<matplotlib.figure.Figure at 0x1c80ed25ef0>"
      ]
     },
     "metadata": {},
     "output_type": "display_data"
    },
    {
     "data": {
      "text/plain": [
       "<ggplot: (-9223371914432575253)>"
      ]
     },
     "execution_count": 57,
     "metadata": {},
     "output_type": "execute_result"
    }
   ],
   "source": [
    "prec, recall, thresh = metrics.precision_recall_curve(test.y, preds[:,1])\n",
    "\n",
    "df = pd.DataFrame(dict(recall=recall[::-1], props=[i / len(prec) for i in range(len(prec))]))\n",
    "ggplot(df, aes(x='props', y='recall')) +\\\n",
    "    geom_line() +\\\n",
    "    geom_abline(linetype='dashed')"
   ]
  },
  {
   "cell_type": "markdown",
   "metadata": {},
   "source": [
    "### prec recall"
   ]
  },
  {
   "cell_type": "code",
   "execution_count": 58,
   "metadata": {
    "collapsed": false
   },
   "outputs": [
    {
     "data": {
      "image/png": "[encoded data removed]",
      "text/plain": [
       "<matplotlib.figure.Figure at 0x1c808571978>"
      ]
     },
     "metadata": {},
     "output_type": "display_data"
    },
    {
     "data": {
      "text/plain": [
       "<ggplot: (-9223371914434895735)>"
      ]
     },
     "execution_count": 58,
     "metadata": {},
     "output_type": "execute_result"
    }
   ],
   "source": [
    "df = pd.DataFrame(dict(prec=prec, recall=recall))\n",
    "ggplot(df, aes(x='recall', y='prec')) +\\\n",
    "    geom_line() +\\\n",
    "    geom_abline(linetype='dashed')"
   ]
  },
  {
   "cell_type": "markdown",
   "metadata": {},
   "source": [
    "http://scikit-learn.org/stable/modules/generated/sklearn.metrics.precision_recall_curve.html#sklearn.metrics.precision_recall_curve"
   ]
  },
  {
   "cell_type": "markdown",
   "metadata": {},
   "source": [
    "## Lets dive more into our graph (maybe later)\n",
    "- here's a good intro tutorial: https://www.kaggle.com/crailtap/basic-network-analysis-tutorial"
   ]
  },
  {
   "cell_type": "code",
   "execution_count": null,
   "metadata": {
    "collapsed": true
   },
   "outputs": [],
   "source": []
  },
  {
   "cell_type": "markdown",
   "metadata": {},
   "source": [
    "### final note:\n",
    "- I would recommend making all features engineering processes into python scripts, learn to how to use python classes, This is a very iterative process and working with notebooks should be used primarily for exploration.\n",
    "- This is also where python kills R, I'd recommend always feature engineering in python, and using R for EDA, and modelling \n",
    "\n",
    "## Also I do not recommend recommend using any of these functions for production, and am not responsible for the consequences if you do.\n",
    "- hopefull thats sufficient legal cover"
   ]
  }
 ],
 "metadata": {
  "kernelspec": {
   "display_name": "Python 3",
   "language": "python",
   "name": "python3"
  },
  "language_info": {
   "codemirror_mode": {
    "name": "ipython",
    "version": 3
   },
   "file_extension": ".py",
   "mimetype": "text/x-python",
   "name": "python",
   "nbconvert_exporter": "python",
   "pygments_lexer": "ipython3",
   "version": "3.5.3"
  }
 },
 "nbformat": 4,
 "nbformat_minor": 2
}
